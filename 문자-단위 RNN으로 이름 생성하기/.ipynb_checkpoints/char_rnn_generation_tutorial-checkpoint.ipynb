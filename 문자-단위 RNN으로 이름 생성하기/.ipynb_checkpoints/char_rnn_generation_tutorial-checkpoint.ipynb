{
 "cells": [
  {
   "cell_type": "code",
   "execution_count": 2,
   "metadata": {},
   "outputs": [],
   "source": [
    "%matplotlib inline"
   ]
  },
  {
   "cell_type": "markdown",
   "metadata": {},
   "source": [
    "\n",
    "문자-단위 RNN으로 이름 생성하기\n",
    "*******************************************\n",
    "**Author**: `Sean Robertson <https://github.com/spro/practical-pytorch>`_\n",
    "  **번역**: `황성수 <https://github.com/adonisues>`_\n",
    "\n",
    ":doc:`이전 튜토리얼 </intermediate/char_rnn_classification_tutorial>`\n",
    "에서 이름을 그들의 원래 언어로 분류하기 위해 RNN을 사용했습니다.\n",
    "이번에는 반대로 언어로 이름을 생성할 예정입니다.\n",
    "\n",
    "::\n",
    "\n",
    "    > python sample.py Russian RUS\n",
    "    Rovakov\n",
    "    Uantov\n",
    "    Shavakov\n",
    "\n",
    "    > python sample.py German GER\n",
    "    Gerren\n",
    "    Ereng\n",
    "    Rosher\n",
    "\n",
    "    > python sample.py Spanish SPA\n",
    "    Salla\n",
    "    Parer\n",
    "    Allan\n",
    "\n",
    "    > python sample.py Chinese CHI\n",
    "    Chan\n",
    "    Hang\n",
    "    Iun\n",
    "\n",
    "우리는 여전히 몇 개의 선형 레이어를 가진 작은 RNN을 직접 제작하고 있습니다.\n",
    "이름의 모든 글자를 읽은 후에 카테고리를 예측하는 것과의 큰 차이점은 카테고리를 입력하고 한 번에 한 글자를 출력하는 것입니다.\n",
    "언어를 형성하기 위해 문자를 반복적으로 예측하는 것을 종종 \"언어 모델\"이라고합니다. (단어 또는 다른 고차원 구조로도 수행 될 수 있음)\n",
    "\n",
    "**추천 자료:**\n",
    "\n",
    "최소한 Pytorch를 설치했고, Python을 알고, Tensor를 이해한다고 가정합니다.:\n",
    "\n",
    "-  http://pytorch.org/ 설치 안내를 위한 자료\n",
    "-  :doc:`/beginner/deep_learning_60min_blitz` 일반적인 PyTorch 시작을 위한 자료\n",
    "-  :doc:`/beginner/pytorch_with_examples` 넓고 깊은 통찰을 위한 자료\n",
    "-  :doc:`/beginner/former_torchies_tutorial` 이전 Lua Torch 사용자를 위한 자료\n",
    "\n",
    "RNN과 그 작동 방식을 아는 것 또한 유용합니다.:\n",
    "\n",
    "-  `The Unreasonable Effectiveness of Recurrent Neural\n",
    "   Networks <http://karpathy.github.io/2015/05/21/rnn-effectiveness/>`__\n",
    "   실생활 예들을 보여 줍니다\n",
    "-  `Understanding LSTM\n",
    "   Networks <http://colah.github.io/posts/2015-08-Understanding-LSTMs/>`__\n",
    "   특히 LSTM에 관한 것이지만 일반적인 RNN에 대한 정보입니다.\n",
    "\n",
    "이전 튜토리얼도 추천합니다. :doc:`/intermediate/char_rnn_classification_tutorial`\n",
    "\n",
    "\n",
    "데이터 준비하기\n",
    "==================\n",
    "\n",
    ".. Note::\n",
    "   `여기 <https://download.pytorch.org/tutorial/data.zip>`_\n",
    "   에서 데이터를 다운 받고, 현재 디렉토리에 압축을 푸십시오.\n",
    "\n",
    "이 과정의 더 자세한 사항은 지난 튜토리얼을 보십시오. 요약하면,\n",
    "줄마다 이름이 적힌 텍스트 파일 ``data/names/[Language].txt`` 있습니다.\n",
    "이것을 어레이로 분리하고, Unicode를 ASCII로 변경하고,\n",
    "사전 ``{language: [names ...]}`` 으로 마무리합니다.\n",
    "\n",
    "\n"
   ]
  },
  {
   "cell_type": "code",
   "execution_count": 3,
   "metadata": {},
   "outputs": [
    {
     "name": "stdout",
     "output_type": "stream",
     "text": [
      "# categories: 18 ['Arabic', 'Chinese', 'Czech', 'Dutch', 'English', 'French', 'German', 'Greek', 'Irish', 'Italian', 'Japanese', 'Korean', 'Polish', 'Portuguese', 'Russian', 'Scottish', 'Spanish', 'Vietnamese']\n",
      "O'Neal\n"
     ]
    }
   ],
   "source": [
    "from __future__ import unicode_literals, print_function, division\n",
    "from io import open\n",
    "import glob\n",
    "import os\n",
    "import unicodedata\n",
    "import string\n",
    "\n",
    "all_letters = string.ascii_letters + \" .,;'-\"\n",
    "n_letters = len(all_letters) + 1 # Plus EOS marker\n",
    "\n",
    "def findFiles(path): return glob.glob(path)\n",
    "\n",
    "# Unicode 문자열을 일반 ASCII로 변환하십시오. http://stackoverflow.com/a/518232/2809427 에 감사드립니다.\n",
    "def unicodeToAscii(s):\n",
    "    return ''.join(\n",
    "        c for c in unicodedata.normalize('NFD', s)\n",
    "        if unicodedata.category(c) != 'Mn'\n",
    "        and c in all_letters\n",
    "    )\n",
    "\n",
    "# 파일을 읽고 라인으로 분리하십시오\n",
    "def readLines(filename):\n",
    "    lines = open(filename, encoding='utf-8').read().strip().split('\\n')\n",
    "    return [unicodeToAscii(line) for line in lines]\n",
    "\n",
    "# 카테고리별 줄 목록인 category_lines 사전을 만드십시오.\n",
    "category_lines = {}\n",
    "all_categories = []\n",
    "for filename in findFiles('data/names/*.txt'):\n",
    "    category = os.path.splitext(os.path.basename(filename))[0]\n",
    "    all_categories.append(category)\n",
    "    lines = readLines(filename)\n",
    "    category_lines[category] = lines\n",
    "\n",
    "n_categories = len(all_categories)\n",
    "\n",
    "if n_categories == 0:\n",
    "    raise RuntimeError('Data not found. Make sure that you downloaded data '\n",
    "        'from https://download.pytorch.org/tutorial/data.zip and extract it to '\n",
    "        'the current directory.')\n",
    "\n",
    "print('# categories:', n_categories, all_categories)\n",
    "print(unicodeToAscii(\"O'Néàl\"))"
   ]
  },
  {
   "cell_type": "markdown",
   "metadata": {},
   "source": [
    "네트워크 생성\n",
    "====================\n",
    "\n",
    "이 네트워크는 `지난 튜토리얼의 RNN <#Creating-the-Network>`__ 이\n",
    "다른 것들과 연결되는 category tensor를 추가 인자로 가지게 확장합니다.\n",
    "category tensor는 문자 입력과 마찬가지로 one-hot 벡터입니다.\n",
    "\n",
    "우리는 출력을 다음 문자의 확률로 해석 할 것입니다. 샘플링 할 때\n",
    "가장 확률이 높은 문자가 다음 입력 문자로 사용됩니다.\n",
    "\n",
    "더 잘 동작하게 하기 위해 두 번째 선형 레이어\n",
    "``o2o`` (hiddne과 출력을 결합한 후) 를 추가했습니다 .\n",
    "또한 drop-out 레이어가 있습니다. 이 레이어는 주어진 확률(여기서 0.1)로\n",
    "`입력을 무작위로 0 # <https://arxiv.org/abs/1207.0580>`__ 으로 만들고\n",
    "일반적으로 over-fitting을 방지하기위해 입력을 흐리게 하는 데 사용됩니다.\n",
    "여기서 우리는 고의로 일부 혼돈을 추가하고 샘플링 다양성을 높이기\n",
    "위해 네트워크의 마지막에 이것을 사용합니다.\n",
    "\n",
    ".. figure:: https://i.imgur.com/jzVrf7f.png\n",
    "   :alt:\n",
    "   \n",
    "![figure](https://i.imgur.com/jzVrf7f.png)\n",
    "\n",
    "\n",
    "\n"
   ]
  },
  {
   "cell_type": "code",
   "execution_count": 4,
   "metadata": {},
   "outputs": [],
   "source": [
    "import torch\n",
    "import torch.nn as nn\n",
    "\n",
    "class RNN(nn.Module):\n",
    "    def __init__(self, input_size, hidden_size, output_size):\n",
    "        super(RNN, self).__init__()\n",
    "        self.hidden_size = hidden_size\n",
    "\n",
    "        self.i2h = nn.Linear(n_categories + input_size + hidden_size, hidden_size)\n",
    "        self.i2o = nn.Linear(n_categories + input_size + hidden_size, output_size)\n",
    "        self.o2o = nn.Linear(hidden_size + output_size, output_size)\n",
    "        self.dropout = nn.Dropout(0.1)\n",
    "        self.softmax = nn.LogSoftmax(dim=1)\n",
    "\n",
    "    def forward(self, category, input, hidden):\n",
    "        input_combined = torch.cat((category, input, hidden), 1)\n",
    "        hidden = self.i2h(input_combined)\n",
    "        output = self.i2o(input_combined)\n",
    "        output_combined = torch.cat((hidden, output), 1)\n",
    "        output = self.o2o(output_combined)\n",
    "        output = self.dropout(output)\n",
    "        output = self.softmax(output)\n",
    "        return output, hidden\n",
    "\n",
    "    def initHidden(self):\n",
    "        return torch.zeros(1, self.hidden_size)"
   ]
  },
  {
   "cell_type": "markdown",
   "metadata": {},
   "source": [
    "학습\n",
    "=========\n",
    "학습 준비\n",
    "----------------------\n",
    "\n",
    "제일 먼저 (category, line)의 무작위 쌍을 얻는 함수:\n",
    "\n",
    "\n"
   ]
  },
  {
   "cell_type": "code",
   "execution_count": 5,
   "metadata": {},
   "outputs": [],
   "source": [
    "import random\n",
    "\n",
    "# 리스트에서 무작의 아이템 반환\n",
    "def randomChoice(l):\n",
    "    return l[random.randint(0, len(l) - 1)]\n",
    "\n",
    "# 임의의 category 및 그 category에서 임의의 줄(이름) 얻기\n",
    "def randomTrainingPair():\n",
    "    category = randomChoice(all_categories)\n",
    "    line = randomChoice(category_lines[category])\n",
    "    return category, line"
   ]
  },
  {
   "cell_type": "markdown",
   "metadata": {},
   "source": [
    "각 스텝 마다 (즉, 학습 단어의 각 문자 마다) 네트워크의 입력은\n",
    "``(category, 현재 문자, hidden state)`` 이 되고, 출력은\n",
    "``(다음 문자, 다음 hidden state)`` 가 된다. 따라서 각 학습 세트 마다\n",
    "category, 입력 문자의 세트, 출력/목표 문자의 세트가 필요하다.\n",
    "\n",
    "매 타임 스텝마다 현재 문자에서 다음 문자를 예측하기 때문에,\n",
    "문자 쌍은 줄에서 연속 된 문자 그룹입니다. - 예를 들어 ``\"ABCD<EOS>\"`` 는\n",
    "(\"A\", \"B\"), (\"B\", \"C\"), (\"C\", \"D\"), (\"D\", \"EOS\") 로 생성합니다.\n",
    "\n",
    ".. figure:: https://i.imgur.com/JH58tXY.png\n",
    "   :alt:\n",
    "\n",
    "![example](https://i.imgur.com/JH58tXY.png)\n",
    "\n",
    "\n",
    "category tensor는 ``<1 x n_categories>`` 크기의 `one-hot\n",
    "tensor <https://en.wikipedia.org/wiki/One-hot>`__ 입니다.\n",
    "학습시에 모든 타임 스텝에서 네트워크에 그것을 전달합니다.\n",
    "- 이것은 설계 선택사항으로, 초기 hidden state 부분 또는\n",
    "또다른 전략이 포함될 수 있습니다.\n",
    "\n",
    "\n"
   ]
  },
  {
   "cell_type": "code",
   "execution_count": 6,
   "metadata": {},
   "outputs": [],
   "source": [
    "# category를 위한 One-hot 벡터\n",
    "def categoryTensor(category):\n",
    "    li = all_categories.index(category)\n",
    "    tensor = torch.zeros(1, n_categories)\n",
    "    tensor[0][li] = 1\n",
    "    return tensor\n",
    "\n",
    "# 입력을 위한 처음부터 마지막 문자(EOS 제외)까지의  One-hot 행렬\n",
    "def inputTensor(line):\n",
    "    tensor = torch.zeros(len(line), 1, n_letters)\n",
    "    for li in range(len(line)):\n",
    "        letter = line[li]\n",
    "        tensor[li][0][all_letters.find(letter)] = 1\n",
    "    return tensor\n",
    "\n",
    "# 목표를 위한 두번째 문자 부터 마지막(EOS) 까지의 LongTensor\n",
    "def targetTensor(line):\n",
    "    letter_indexes = [all_letters.find(line[li]) for li in range(1, len(line))]\n",
    "    letter_indexes.append(n_letters - 1) # EOS\n",
    "    return torch.LongTensor(letter_indexes)"
   ]
  },
  {
   "cell_type": "markdown",
   "metadata": {},
   "source": [
    "학습 동안 편의를 위해 임의의 (category, line)을 가져오고\n",
    "그것을 필요한 형태 (category, input, target) tensor로 바꾸는\n",
    "``randomTrainingExample`` 함수를 만들 예정입니다.\n",
    "\n",
    "\n"
   ]
  },
  {
   "cell_type": "code",
   "execution_count": 7,
   "metadata": {},
   "outputs": [],
   "source": [
    "# 임의의 category에서 category, input, target Tensor를 만듭니다.\n",
    "def randomTrainingExample():\n",
    "    category, line = randomTrainingPair()\n",
    "    category_tensor = categoryTensor(category)\n",
    "    input_line_tensor = inputTensor(line)\n",
    "    target_line_tensor = targetTensor(line)\n",
    "    return category_tensor, input_line_tensor, target_line_tensor"
   ]
  },
  {
   "cell_type": "markdown",
   "metadata": {},
   "source": [
    "네트워크 학습\n",
    "--------------------\n",
    "\n",
    "마지막 출력만 사용하는 분류와 달리, 모든 단계에서 예측을 수행하므로\n",
    "모든 단계에서 손실을 계산합니다.\n",
    "\n",
    "autograd 의 마법이 각 스템의 이 손실들을 간단하게 합하고 마지막에\n",
    "역전파를 호출하게 해줍니다.\n",
    "\n",
    "\n"
   ]
  },
  {
   "cell_type": "code",
   "execution_count": 8,
   "metadata": {},
   "outputs": [],
   "source": [
    "criterion = nn.NLLLoss()\n",
    "\n",
    "learning_rate = 0.0005\n",
    "\n",
    "def train(category_tensor, input_line_tensor, target_line_tensor):\n",
    "    target_line_tensor.unsqueeze_(-1)\n",
    "    hidden = rnn.initHidden()\n",
    "\n",
    "    rnn.zero_grad()\n",
    "\n",
    "    loss = 0\n",
    "\n",
    "    for i in range(input_line_tensor.size(0)):\n",
    "        output, hidden = rnn(category_tensor, input_line_tensor[i], hidden)\n",
    "        l = criterion(output, target_line_tensor[i])\n",
    "        loss += l\n",
    "\n",
    "    loss.backward()\n",
    "\n",
    "    for p in rnn.parameters():\n",
    "        p.data.add_(-learning_rate, p.grad.data)\n",
    "\n",
    "    return output, loss.item() / input_line_tensor.size(0)"
   ]
  },
  {
   "cell_type": "markdown",
   "metadata": {},
   "source": [
    "학습에 걸리는 시간을 추적하기 위해 사람이 읽을 수있는 문자열을\n",
    "반환하는``timeSince (timestamp)`` 함수를 추가합니다:\n",
    "\n",
    "\n"
   ]
  },
  {
   "cell_type": "code",
   "execution_count": 9,
   "metadata": {},
   "outputs": [],
   "source": [
    "import time\n",
    "import math\n",
    "\n",
    "def timeSince(since):\n",
    "    now = time.time()\n",
    "    s = now - since\n",
    "    m = math.floor(s / 60)\n",
    "    s -= m * 60\n",
    "    return '%dm %ds' % (m, s)"
   ]
  },
  {
   "cell_type": "markdown",
   "metadata": {},
   "source": [
    "학습은 일상적인 일입니다. - 몇번 train() 을 호출하고 몇 분 정도\n",
    "기다렸다가 ``print_every`` 예제마다 현재 시간과 손실을 출력하고,\n",
    "도식화를 위해 ``all_losses`` 에 ``plot_every`` 예제 마다\n",
    "평균 손실을 저장하십시오.\n",
    "\n",
    "\n"
   ]
  },
  {
   "cell_type": "code",
   "execution_count": 10,
   "metadata": {},
   "outputs": [
    {
     "name": "stdout",
     "output_type": "stream",
     "text": [
      "0m 38s (5000 5%) 3.0458\n",
      "1m 12s (10000 10%) 2.3287\n",
      "1m 48s (15000 15%) 2.9798\n",
      "2m 15s (20000 20%) 2.2261\n",
      "2m 41s (25000 25%) 2.9129\n",
      "3m 8s (30000 30%) 2.1280\n",
      "4m 1s (35000 35%) 2.8906\n",
      "4m 28s (40000 40%) 2.5561\n",
      "5m 3s (45000 45%) 2.5223\n",
      "5m 47s (50000 50%) 1.9289\n",
      "6m 14s (55000 55%) 1.9654\n",
      "6m 40s (60000 60%) 1.6515\n",
      "7m 5s (65000 65%) 1.7920\n",
      "7m 41s (70000 70%) 2.2505\n",
      "8m 7s (75000 75%) 2.3423\n",
      "8m 35s (80000 80%) 4.8294\n",
      "9m 11s (85000 85%) 1.9271\n",
      "9m 45s (90000 90%) 2.0412\n",
      "10m 18s (95000 95%) 2.6373\n",
      "10m 44s (100000 100%) 2.7530\n"
     ]
    }
   ],
   "source": [
    "rnn = RNN(n_letters, 128, n_letters)\n",
    "\n",
    "n_iters = 100000\n",
    "print_every = 5000\n",
    "plot_every = 500\n",
    "all_losses = []\n",
    "total_loss = 0 # Reset every plot_every iters\n",
    "\n",
    "start = time.time()\n",
    "\n",
    "for iter in range(1, n_iters + 1):\n",
    "    output, loss = train(*randomTrainingExample())\n",
    "    total_loss += loss\n",
    "\n",
    "    if iter % print_every == 0:\n",
    "        print('%s (%d %d%%) %.4f' % (timeSince(start), iter, iter / n_iters * 100, loss))\n",
    "\n",
    "    if iter % plot_every == 0:\n",
    "        all_losses.append(total_loss / plot_every)\n",
    "        total_loss = 0"
   ]
  },
  {
   "cell_type": "markdown",
   "metadata": {},
   "source": [
    "손실 도식화\n",
    "-------------------\n",
    "\n",
    "all\\_losses를 이용한 역사적인 손실의\n",
    "도식화는 네트워크의 학습을 보여줍니다:\n",
    "\n",
    "\n"
   ]
  },
  {
   "cell_type": "code",
   "execution_count": 11,
   "metadata": {},
   "outputs": [
    {
     "data": {
      "text/plain": [
       "[<matplotlib.lines.Line2D at 0x1eb791306a0>]"
      ]
     },
     "execution_count": 11,
     "metadata": {},
     "output_type": "execute_result"
    },
    {
     "data": {
      "image/png": "[encoded data removed]",
      "text/plain": [
       "<Figure size 432x288 with 1 Axes>"
      ]
     },
     "metadata": {
      "needs_background": "light"
     },
     "output_type": "display_data"
    }
   ],
   "source": [
    "import matplotlib.pyplot as plt\n",
    "import matplotlib.ticker as ticker\n",
    "\n",
    "plt.figure()\n",
    "plt.plot(all_losses)"
   ]
  },
  {
   "cell_type": "markdown",
   "metadata": {},
   "source": [
    "네트워크 샘플링\n",
    "====================\n",
    "\n",
    "샘플을 선택하기 위해 네트워크에 문자를 주고 다음 문자를 물어보고,\n",
    "다음 문자로 그것을 입력하고, 이를 EOS 토큰까지 반복하십시오.\n",
    "\n",
    "-  입력 카테고리, 시작 문자, 빈 hidden state 로 Tensor를 생성하십시오\n",
    "-  시작 문자로 ``output_name`` 문자열을 생성하십시오\n",
    "-  최대 출력 길이까지,\n",
    "\n",
    "   -  현재 문자를 네트워크에 전달하십시오.\n",
    "   -  가장 높은 출력에서 다음 문자과 다음 hidden state를 얻으십시오\n",
    "   -  만일 문자가 EOS면 여기서 멈추십시오\n",
    "   -  만일 일반적인 문자라면 ``output_name`` 에 추가하고 계속하십시오\n",
    "\n",
    "-  마지막 이름 반환\n",
    "\n",
    ".. Note::\n",
    "   시작 문자를 주는 것 외에 \"문자열 시작\" 토큰을 학습에\n",
    "   포함하게 하고 네트워크가 자체적으로 시작 문자를 선택하게 하는\n",
    "   다른 전략도 있습니다.\n",
    "\n",
    "\n"
   ]
  },
  {
   "cell_type": "code",
   "execution_count": 12,
   "metadata": {},
   "outputs": [
    {
     "name": "stdout",
     "output_type": "stream",
     "text": [
      "Rakinovev\n",
      "Uakilovev\n",
      "Sakovev\n",
      "Garer\n",
      "Eres\n",
      "Roure\n",
      "Saller\n",
      "Paler\n",
      "Allan\n",
      "Chan\n",
      "Han\n",
      "Iue\n"
     ]
    }
   ],
   "source": [
    "max_length = 20\n",
    "\n",
    "# 카테고리와 시작 문자에서 샘플 선택\n",
    "def sample(category, start_letter='A'):\n",
    "    with torch.no_grad():  # 샘플리에서 히스토리를 추적할 필요 없음\n",
    "        category_tensor = categoryTensor(category)\n",
    "        input = inputTensor(start_letter)\n",
    "        hidden = rnn.initHidden()\n",
    "\n",
    "        output_name = start_letter\n",
    "\n",
    "        for i in range(max_length):\n",
    "            output, hidden = rnn(category_tensor, input[0], hidden)\n",
    "            topv, topi = output.topk(1)\n",
    "            topi = topi[0][0]\n",
    "            if topi == n_letters - 1:\n",
    "                break\n",
    "            else:\n",
    "                letter = all_letters[topi]\n",
    "                output_name += letter\n",
    "            input = inputTensor(letter)\n",
    "\n",
    "        return output_name\n",
    "\n",
    "# 하나의 카테고리와 여러 시작 문자들에서 여러 샘플 얻기\n",
    "def samples(category, start_letters='ABC'):\n",
    "    for start_letter in start_letters:\n",
    "        print(sample(category, start_letter))\n",
    "\n",
    "samples('Russian', 'RUS')\n",
    "\n",
    "samples('German', 'GER')\n",
    "\n",
    "samples('Spanish', 'SPA')\n",
    "\n",
    "samples('Chinese', 'CHI')"
   ]
  },
  {
   "cell_type": "markdown",
   "metadata": {},
   "source": [
    "Exercises\n",
    "=========\n",
    "\n",
    "-  \"category -> line\" 의 다른 데이터 집합으로 시도해보십시오, 예를 들어:\n",
    "\n",
    "   -  가상 영화 시리즈 -> 캐릭터 이름\n",
    "   -  연설의 일부 -> 단어\n",
    "   -  나라 -> 도시\n",
    "\n",
    "-  \"start of sentence\" 토큰을 사용하여 시작 문자를 선택하지 않고\n",
    "   샘플링을 수행 할 수 있습니다.\n",
    "-  더 크거나 더 나은 구조의 네트워크로 더 나은 결과를 얻으십시오\n",
    "\n",
    "   -  nn.LSTM 과 nn.GRU 레이어를 사용해 보십시오\n",
    "   -  여러 개의 이런 RNN을 상위 수준 네트워크로 결합해 보십시오\n",
    "\n",
    "\n"
   ]
  }
 ],
 "metadata": {
  "kernelspec": {
   "display_name": "Python 3",
   "language": "python",
   "name": "python3"
  },
  "language_info": {
   "codemirror_mode": {
    "name": "ipython",
    "version": 3
   },
   "file_extension": ".py",
   "mimetype": "text/x-python",
   "name": "python",
   "nbconvert_exporter": "python",
   "pygments_lexer": "ipython3",
   "version": "3.6.7"
  }
 },
 "nbformat": 4,
 "nbformat_minor": 1
}
